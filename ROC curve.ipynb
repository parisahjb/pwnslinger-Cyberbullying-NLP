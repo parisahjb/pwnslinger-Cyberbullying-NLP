{
 "cells": [
  {
   "cell_type": "code",
   "execution_count": 1,
   "metadata": {},
   "outputs": [],
   "source": [
    "from sklearn.metrics import roc_curve, roc_auc_score"
   ]
  },
  {
   "cell_type": "code",
   "execution_count": 2,
   "metadata": {},
   "outputs": [],
   "source": [
    "# clf_models = {\n",
    "#     'MultinomialNB': MultinomialNB(),\n",
    "#     'NaiveBayes': GaussianNB(),\n",
    "#     'SVC': SVC(),\n",
    "#     'DecisionTree': DecisionTreeClassifier(),\n",
    "#     'Perceptron': MLPClassifier(),\n",
    "#     'RandomForest': RandomForestClassifier(),\n",
    "#     'GradientBoosting': GradientBoostingClassifier(),\n",
    "#     'LogisticRegression': LogisticRegression(),\n",
    "#     'AdaBoost': AdaBoostClassifier(),\n",
    "#     'MLPClassifier': MLPClassifier()\n",
    "# }\n",
    "\n",
    "# clf_params = {\n",
    "#     'NaiveBayes': {},\n",
    "#     'MultinomialNB': { 'alpha': [0.5, 1], 'fit_prior': [True, False] },\n",
    "#     'SVC': { 'kernel': ['linear'] },\n",
    "#     'DecisionTree': { 'min_samples_split': [2, 5] },\n",
    "#     'Perceptron': { 'alpha': [0.0001, 0.001], 'activation': ['tanh', 'relu'] },\n",
    "#     'GradientBoosting': { 'learning_rate': [0.05, 0.1], 'min_samples_split': [2, 5] },\n",
    "#     'MLPClassifier': { 'hidden_layer_sizes': [100,100]},\n",
    "#     'LogisticRegression': {},\n",
    "#     'AdaBoost': {},\n",
    "#     'RandomForest': {}\n",
    "# }"
   ]
  },
  {
   "cell_type": "code",
   "execution_count": 4,
   "metadata": {},
   "outputs": [],
   "source": [
    "#Prediction probabilities\n",
    "\n",
    "MultinomialNB_probs = MultinomialNB.predict_proba(X_test)\n",
    "NaiveBayes_probs = NaiveBayes.predict_proba(X_test)\n",
    "SVC_probs = SVC.predict_proba(X_test)\n",
    "DecisionTree_probs = DecisionTree.predict_proba(X_test)\n",
    "Perceptron_probs = Perceptron.predict_proba(X_test)\n",
    "RandomForest_probs = RandomForest.predict_proba(X_test)\n",
    "GradientBoosting_probs = GradientBoosting.predict_proba(X_test)\n",
    "LogisticRegression_probs = LogisticRegression.predict_proba(X_test)\n",
    "AdaBoost_probs = AdaBoost.predict_proba(X_test)\n",
    "MLPClassifier_probs = MLPClassifier.predict_proba(X_test)\n",
    "\n",
    "# Probabilities for the positive outcome is kept.\n",
    "MultinomialNB_probs = MultinomialNB_probs[:, 1]\n",
    "NaiveBayes_probs = NaiveBayes_probs[:, 1]\n",
    "SVC_probs = SVC_probs[:, 1]\n",
    "DecisionTree_probs = DecisionTree_probs[:, 1]\n",
    "Perceptron_probs = Perceptron_probs[:, 1]\n",
    "RandomForest_probs = RandomForest_probs[:, 1]\n",
    "GradientBoosting_probs = GradientBoosting_probs[:, 1] \n",
    "LogisticRegression_probs = LogisticRegression_probs[:, 1]\n",
    "AdaBoost_probs = AdaBoost_probs[:, 1]\n",
    "MLPClassifier_probs = MLPClassifier_probs[:, 1]\n",
    "\n"
   ]
  },
  {
   "cell_type": "markdown",
   "metadata": {},
   "source": [
    "Calculate AUROC\n",
    "ROC is the receiver operating characteristic AUROC is the area under the ROC curve"
   ]
  },
  {
   "cell_type": "code",
   "execution_count": null,
   "metadata": {},
   "outputs": [],
   "source": [
    "MultinomialNB_auc = roc_auc_score(Y_test, MultinomialNB_probs)\n",
    "NaiveBayes_auc = roc_auc_score(Y_test, NaiveBayes_probs)\n",
    "SVC_auc = roc_auc_score(Y_test, SVC_probs)\n",
    "DecisionTree_auc = roc_auc_score(Y_test, DecisionTree_probs)\n",
    "Perceptron_auc = roc_auc_score(Y_test, Perceptron_probs)\n",
    "RandomForest_auc = roc_auc_score(Y_test, RandomForest_probs)\n",
    "GradientBoosting_auc = roc_auc_score(Y_test, GradientBoosting_probs)\n",
    "LogisticRegression_auc = roc_auc_score(Y_test, LogisticRegression_probs)\n",
    "AdaBoost_auc = roc_auc_score(Y_test, AdaBoost_probs)\n",
    "MLPClassifier_auc = roc_auc_score(Y_test, MLPClassifier)"
   ]
  },
  {
   "cell_type": "markdown",
   "metadata": {},
   "source": [
    "Print AUROC scores"
   ]
  },
  {
   "cell_type": "code",
   "execution_count": null,
   "metadata": {},
   "outputs": [],
   "source": [
    "print('MultinomialNB: AUROC = %.3f' % (MultinomialNB_auc))\n",
    "print('Naive Bayes: AUROC = %.3f' % (NaiveBayes_auc))\n",
    "print('SVC: AUROC = %.3f' % (SVC_auc))\n",
    "print('Decision Tree: AUROC = %.3f' % (DecisionTree_auc))\n",
    "print('Perceptron: AUROC = %.3f' % (Perceptron_auc))\n",
    "print('Random Forest: AUROC = %.3f' % (RandomForest_auc))\n",
    "print('Gradient Boosting: AUROC = %.3f' % (GradientBoosting_auc))\n",
    "print('Logistic Regression: AUROC = %.3f' % (LogisticRegression_auc))\n",
    "print('AdaBoost: AUROC = %.3f' % (AdaBoost_auc))\n",
    "print('MLP Classifier: AUROC = %.3f' % (MLPClassifier_auc))"
   ]
  },
  {
   "cell_type": "markdown",
   "metadata": {},
   "source": [
    "Calculate ROC curve"
   ]
  },
  {
   "cell_type": "code",
   "execution_count": null,
   "metadata": {},
   "outputs": [],
   "source": [
    "MultinomialNB_fpr, MultinomialNB_tpr, _ = roc_curve(Y_test, MultinomialNB_probs)\n",
    "NaiveBayes_fpr, NaiveBayes_tpr, _ = roc_curve(Y_test, NaiveBayes_probs)\n",
    "SVC_fpr, SVC_tpr, _ = roc_curve(Y_test, SVC_probs)\n",
    "DecisionTree_fpr, DecisionTree_tpr, _ = roc_curve(Y_test, DecisionTree_probs)\n",
    "Perceptron_fpr, Perceptron_tpr, _ = roc_curve(Y_test, Perceptron_probs)\n",
    "RandomForest_fpr, RandomForest_tpr, _ = roc_curve(Y_test, RandomForest_probs)\n",
    "GradientBoosting_fpr, GradientBoosting_tpr, _ = roc_curve(Y_test, GradientBoosting_probs)\n",
    "LogisticRegression_fpr, LogisticRegression_tpr, _ = roc_curve(Y_test, LogisticRegression_probs)\n",
    "AdaBoost_fpr, AdaBoost_tpr, _ = roc_curve(Y_test, AdaBoost_probs)\n",
    "MLPClassifier_fpr, MLPClassifier_tpr, _ = roc_curve(Y_test, MLPClassifier_probs)\n"
   ]
  },
  {
   "cell_type": "markdown",
   "metadata": {},
   "source": [
    "Plot the ROC curve"
   ]
  },
  {
   "cell_type": "code",
   "execution_count": null,
   "metadata": {},
   "outputs": [],
   "source": [
    "#import matplotlib.pyplot as plt\n",
    "plt.plot(MultinomialNB_fpr, MultinomialNB_tpr, marker='<', label='MultinomialNB (AUROC = %0.3f)' % MultinomialNB_auc)\n",
    "plt.plot(NaiveBayes_fpr, NaiveBayes_tpr, marker='.', label='Naive Bayes (AUROC = %0.3f)' % NaiveBayes_auc)\n",
    "plt.plot(SVC_fpr, SVC_tpr, marker='8', label='SVC (AUROC = %0.3f)' % SVC_auc)\n",
    "plt.plot(DecisionTree_fpr, DecisionTree_tpr, marker='p', label='Decision Tree (AUROC = %0.3f)' % DecisionTree_auc)\n",
    "plt.plot(Perceptron_fpr, Perceptron_tpr, marker='d', label='Perceptron (AUROC = %0.3f)' % Perceptron_auc)\n",
    "plt.plot(RandomForest_fpr, RandomForest_tpr, marker='D', label='Random Forest (AUROC = %0.3f)' % RandomForest_auc)\n",
    "plt.plot(GradientBoosting_fpr, GradientBoosting_tpr, marker='h', label='Gradient Boosting (AUROC = %0.3f)' % GradientBoosting_auc)\n",
    "plt.plot(LogisticRegression_fpr, LogisticRegression_tpr, marker='X', label='Logistic Regression (AUROC = %0.3f)' % LogisticRegression_auc)\n",
    "plt.plot(AdaBoost_fpr, AdaBoost_tpr, marker='>', label='AdaBoost (AUROC = %0.3f)' % AdaBoost_auc)\n",
    "plt.plot(MLPClassifier_fpr, MLPClassifier_tpr, marker='s', label='MLP Classifier (AUROC = %0.3f)' % MLPClassifier_auc)\n",
    "\n",
    "\n",
    "\n",
    "# Title\n",
    "plt.title('ROC Plot')\n",
    "# Axis labels\n",
    "plt.xlabel('False Positive Rate')\n",
    "plt.ylabel('True Positive Rate')\n",
    "# Show legend\n",
    "plt.legend() # \n",
    "# Show plot\n",
    "plt.show()"
   ]
  },
  {
   "cell_type": "markdown",
   "metadata": {},
   "source": [
    "\n",
    "Reference\n",
    "https://scikit-learn.org/stable/auto_examples/model_selection/plot_roc.html\n",
    "https://machinelearningmastery.com/roc-curves-and-precision-recall-curves-for-classification-in-python/\n",
    "https://github.com/dataprofessor/code/blob/master/python/ROC_curve.ipynb"
   ]
  }
 ],
 "metadata": {
  "kernelspec": {
   "display_name": "Python 3",
   "language": "python",
   "name": "python3"
  },
  "language_info": {
   "codemirror_mode": {
    "name": "ipython",
    "version": 3
   },
   "file_extension": ".py",
   "mimetype": "text/x-python",
   "name": "python",
   "nbconvert_exporter": "python",
   "pygments_lexer": "ipython3",
   "version": "3.7.1"
  }
 },
 "nbformat": 4,
 "nbformat_minor": 2
}
