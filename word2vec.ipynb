{
 "cells": [
  {
   "cell_type": "code",
   "execution_count": 28,
   "metadata": {},
   "outputs": [],
   "source": [
    "import nltk\n",
    "import re\n",
    "import warnings\n",
    "import numpy as np\n",
    "import pandas as pd\n",
    "import matplotlib.pyplot as plt\n",
    "%matplotlib inline\n",
    "import seaborn as sns\n",
    "\n",
    "from collections import Counter\n",
    "from gensim.utils import simple_preprocess\n",
    "from gensim.models import word2vec\n",
    "from gensim.parsing.preprocessing import STOPWORDS\n",
    "from nltk.stem import WordNetLemmatizer\n",
    "from sklearn.model_selection import train_test_split\n",
    "from sklearn.feature_extraction.text import TfidfVectorizer, CountVectorizer\n",
    "from sklearn.naive_bayes import MultinomialNB\n",
    "from sklearn.naive_bayes import GaussianNB\n",
    "from sklearn.naive_bayes import BernoulliNB\n",
    "from sklearn.svm import SVC\n",
    "from sklearn.cluster import AffinityPropagation\n",
    "from sklearn.neural_network import MLPClassifier\n",
    "from sklearn.ensemble import AdaBoostClassifier\n",
    "from sklearn.tree import DecisionTreeClassifier\n",
    "from sklearn.ensemble import RandomForestClassifier\n",
    "from sklearn.ensemble import GradientBoostingClassifier\n",
    "from sklearn.linear_model import LogisticRegression\n",
    "from sklearn.model_selection import GridSearchCV\n",
    "from sklearn.manifold import TSNE\n",
    "from sklearn.pipeline import Pipeline\n",
    "from sklearn.metrics import precision_score, recall_score, f1_score, accuracy_score\n",
    "from sklearn.exceptions import UndefinedMetricWarning\n",
    "\n",
    "warnings.filterwarnings(\"ignore\", category=UndefinedMetricWarning)\n",
    "np.seterr(divide='ignore', invalid='ignore')\n",
    "pd.options.display.max_colwidth = 200\n",
    "\n",
    "lemmatizer = WordNetLemmatizer()"
   ]
  },
  {
   "cell_type": "code",
   "execution_count": 22,
   "metadata": {},
   "outputs": [
    {
     "data": {
      "text/html": [
       "<div>\n",
       "<style scoped>\n",
       "    .dataframe tbody tr th:only-of-type {\n",
       "        vertical-align: middle;\n",
       "    }\n",
       "\n",
       "    .dataframe tbody tr th {\n",
       "        vertical-align: top;\n",
       "    }\n",
       "\n",
       "    .dataframe thead th {\n",
       "        text-align: right;\n",
       "    }\n",
       "</style>\n",
       "<table border=\"1\" class=\"dataframe\">\n",
       "  <thead>\n",
       "    <tr style=\"text-align: right;\">\n",
       "      <th></th>\n",
       "      <th>text</th>\n",
       "      <th>category</th>\n",
       "      <th>label</th>\n",
       "    </tr>\n",
       "  </thead>\n",
       "  <tbody>\n",
       "    <tr>\n",
       "      <th>0</th>\n",
       "      <td>!!! RT @mayasolovely: As a woman you shouldn't complain about cleaning up your house. &amp;amp; as a man you should always take the trash out...</td>\n",
       "      <td>normal</td>\n",
       "      <td>False</td>\n",
       "    </tr>\n",
       "    <tr>\n",
       "      <th>1</th>\n",
       "      <td>!!!!! RT @mleew17: boy dats cold...tyga dwn bad for cuffin dat hoe in the 1st place!!</td>\n",
       "      <td>offensive_language</td>\n",
       "      <td>True</td>\n",
       "    </tr>\n",
       "    <tr>\n",
       "      <th>2</th>\n",
       "      <td>!!!!!!! RT @UrKindOfBrand Dawg!!!! RT @80sbaby4life: You ever fuck a bitch and she start to cry? You be confused as shit</td>\n",
       "      <td>offensive_language</td>\n",
       "      <td>True</td>\n",
       "    </tr>\n",
       "    <tr>\n",
       "      <th>3</th>\n",
       "      <td>!!!!!!!!! RT @C_G_Anderson: @viva_based she look like a tranny</td>\n",
       "      <td>offensive_language</td>\n",
       "      <td>True</td>\n",
       "    </tr>\n",
       "    <tr>\n",
       "      <th>4</th>\n",
       "      <td>!!!!!!!!!!!!! RT @ShenikaRoberts: The shit you hear about me might be true or it might be faker than the bitch who told it to ya &amp;#57361;</td>\n",
       "      <td>offensive_language</td>\n",
       "      <td>True</td>\n",
       "    </tr>\n",
       "  </tbody>\n",
       "</table>\n",
       "</div>"
      ],
      "text/plain": [
       "                                                                                                                                           text  \\\n",
       "0  !!! RT @mayasolovely: As a woman you shouldn't complain about cleaning up your house. &amp; as a man you should always take the trash out...   \n",
       "1                                                         !!!!! RT @mleew17: boy dats cold...tyga dwn bad for cuffin dat hoe in the 1st place!!   \n",
       "2                      !!!!!!! RT @UrKindOfBrand Dawg!!!! RT @80sbaby4life: You ever fuck a bitch and she start to cry? You be confused as shit   \n",
       "3                                                                                !!!!!!!!! RT @C_G_Anderson: @viva_based she look like a tranny   \n",
       "4     !!!!!!!!!!!!! RT @ShenikaRoberts: The shit you hear about me might be true or it might be faker than the bitch who told it to ya &#57361;   \n",
       "\n",
       "             category  label  \n",
       "0              normal  False  \n",
       "1  offensive_language   True  \n",
       "2  offensive_language   True  \n",
       "3  offensive_language   True  \n",
       "4  offensive_language   True  "
      ]
     },
     "execution_count": 22,
     "metadata": {},
     "output_type": "execute_result"
    }
   ],
   "source": [
    "data = pd.read_csv('./DS2_clean.csv', encoding='utf-8')\n",
    "data.head()\n"
   ]
  },
  {
   "cell_type": "code",
   "execution_count": 23,
   "metadata": {},
   "outputs": [],
   "source": [
    "data.describe()\n",
    "data['label'] = data['label'].apply(lambda label: 0 if label == False else 1)"
   ]
  },
  {
   "cell_type": "code",
   "execution_count": 24,
   "metadata": {},
   "outputs": [
    {
     "name": "stdout",
     "output_type": "stream",
     "text": [
      "Percentage of Offensive language: 83.2%\n"
     ]
    },
    {
     "data": {
      "text/plain": [
       "Text(0.5, 1.0, 'Empirical distribution of the labels')"
      ]
     },
     "execution_count": 24,
     "metadata": {},
     "output_type": "execute_result"
    },
    {
     "data": {
      "image/png": "[encoded data removed]",
      "text/plain": [
       "<Figure size 432x288 with 1 Axes>"
      ]
     },
     "metadata": {
      "needs_background": "light"
     },
     "output_type": "display_data"
    }
   ],
   "source": [
    "# Empirical distribution of the labels\n",
    "print('Percentage of Offensive language: {0}%'.format(round(100 * data['label'].sum() / len(data['label']), 2)))\n",
    "plt.hist(data['label'], bins=3, weights=np.ones(len(data['label'])) / len(data['label']))\n",
    "plt.xlabel('label')\n",
    "plt.ylabel('Empirical PDF')\n",
    "plt.title('Empirical distribution of the labels')"
   ]
  },
  {
   "cell_type": "code",
   "execution_count": 25,
   "metadata": {},
   "outputs": [
    {
     "data": {
      "text/html": [
       "<div>\n",
       "<style scoped>\n",
       "    .dataframe tbody tr th:only-of-type {\n",
       "        vertical-align: middle;\n",
       "    }\n",
       "\n",
       "    .dataframe tbody tr th {\n",
       "        vertical-align: top;\n",
       "    }\n",
       "\n",
       "    .dataframe thead th {\n",
       "        text-align: right;\n",
       "    }\n",
       "</style>\n",
       "<table border=\"1\" class=\"dataframe\">\n",
       "  <thead>\n",
       "    <tr style=\"text-align: right;\">\n",
       "      <th></th>\n",
       "      <th>text</th>\n",
       "      <th>category</th>\n",
       "      <th>label</th>\n",
       "      <th>text_length</th>\n",
       "    </tr>\n",
       "  </thead>\n",
       "  <tbody>\n",
       "    <tr>\n",
       "      <th>17865</th>\n",
       "      <td>RT @TrxllLegend: One good girl is worth a thousand bitches\\n\\n&amp;#128112; = &amp;#128109;&amp;#128109;&amp;#128109;&amp;#128109;&amp;#128109;&amp;#128109;&amp;#128109;&amp;#128109;&amp;#128109;&amp;#128109;&amp;#128109;&amp;#128109;&amp;#128109;&amp;#128...</td>\n",
       "      <td>offensive_language</td>\n",
       "      <td>1</td>\n",
       "      <td>754</td>\n",
       "    </tr>\n",
       "    <tr>\n",
       "      <th>13402</th>\n",
       "      <td>No summer school? &amp;#128515;&amp;#128515;&amp;#128515;&amp;#128515;&amp;#128515;&amp;#128515;&amp;#128515;&amp;#128515;&amp;#128515;&amp;#128515;&amp;#128515;&amp;#128515;&amp;#128515;&amp;#128515;&amp;#128515;&amp;#128515;&amp;#128515;&amp;#128515;&amp;#128515;&amp;#12851...</td>\n",
       "      <td>offensive_language</td>\n",
       "      <td>1</td>\n",
       "      <td>657</td>\n",
       "    </tr>\n",
       "    <tr>\n",
       "      <th>1596</th>\n",
       "      <td>&amp;#8220;@Untouchable_T: Never seen so many perfect bitches til I made a Twitter &amp;#128564; but &amp;#128056;&amp;#9749;&amp;#65039;&amp;#8221;&amp;#128175;&amp;#128175;&amp;#128175;&amp;#128175;&amp;#128175;&amp;#128175;&amp;#128175;&amp;#128175;...</td>\n",
       "      <td>offensive_language</td>\n",
       "      <td>1</td>\n",
       "      <td>637</td>\n",
       "    </tr>\n",
       "    <tr>\n",
       "      <th>16539</th>\n",
       "      <td>RT @Mr_MshkL: &amp;#1589;&amp;#1608;&amp;#1585;&amp;#1577; &amp;#1604;&amp;#1591;&amp;#1575;&amp;#1574;&amp;#1585; &amp;#1575;&amp;#1604;&amp;#1603;&amp;#1575;&amp;#1585;&amp;#1583;&amp;#1610;&amp;#1606;&amp;#1575;&amp;#1604; &amp;#1575;&amp;#1604;&amp;#1571;&amp;#1581;&amp;#1605;&amp;#1585; &amp;#1...</td>\n",
       "      <td>normal</td>\n",
       "      <td>0</td>\n",
       "      <td>522</td>\n",
       "    </tr>\n",
       "    <tr>\n",
       "      <th>18886</th>\n",
       "      <td>RT @digiflorals: bitch do it look like I care \\n\\n&amp;#12288; N\\n&amp;#12288;&amp;#12288; O\\n&amp;#12288;&amp;#12288;&amp;#12288; O\\n&amp;#12288;&amp;#12288;&amp;#12288;&amp;#12288; o\\n&amp;#12288;&amp;#12288;&amp;#12288;&amp;#12288;&amp;#12288;o\\n&amp;#12288...</td>\n",
       "      <td>offensive_language</td>\n",
       "      <td>1</td>\n",
       "      <td>455</td>\n",
       "    </tr>\n",
       "    <tr>\n",
       "      <th>...</th>\n",
       "      <td>...</td>\n",
       "      <td>...</td>\n",
       "      <td>...</td>\n",
       "      <td>...</td>\n",
       "    </tr>\n",
       "    <tr>\n",
       "      <th>8944</th>\n",
       "      <td>Emd hoe</td>\n",
       "      <td>offensive_language</td>\n",
       "      <td>1</td>\n",
       "      <td>7</td>\n",
       "    </tr>\n",
       "    <tr>\n",
       "      <th>24619</th>\n",
       "      <td>u a hoe</td>\n",
       "      <td>offensive_language</td>\n",
       "      <td>1</td>\n",
       "      <td>7</td>\n",
       "    </tr>\n",
       "    <tr>\n",
       "      <th>24393</th>\n",
       "      <td>retard.</td>\n",
       "      <td>offensive_language</td>\n",
       "      <td>1</td>\n",
       "      <td>7</td>\n",
       "    </tr>\n",
       "    <tr>\n",
       "      <th>24364</th>\n",
       "      <td>pussy</td>\n",
       "      <td>offensive_language</td>\n",
       "      <td>1</td>\n",
       "      <td>5</td>\n",
       "    </tr>\n",
       "    <tr>\n",
       "      <th>23724</th>\n",
       "      <td>coons</td>\n",
       "      <td>hate_speech</td>\n",
       "      <td>1</td>\n",
       "      <td>5</td>\n",
       "    </tr>\n",
       "  </tbody>\n",
       "</table>\n",
       "<p>24783 rows × 4 columns</p>\n",
       "</div>"
      ],
      "text/plain": [
       "                                                                                                                                                                                                          text  \\\n",
       "17865  RT @TrxllLegend: One good girl is worth a thousand bitches\\n\\n&#128112; = &#128109;&#128109;&#128109;&#128109;&#128109;&#128109;&#128109;&#128109;&#128109;&#128109;&#128109;&#128109;&#128109;&#128...   \n",
       "13402  No summer school? &#128515;&#128515;&#128515;&#128515;&#128515;&#128515;&#128515;&#128515;&#128515;&#128515;&#128515;&#128515;&#128515;&#128515;&#128515;&#128515;&#128515;&#128515;&#128515;&#12851...   \n",
       "1596   &#8220;@Untouchable_T: Never seen so many perfect bitches til I made a Twitter &#128564; but &#128056;&#9749;&#65039;&#8221;&#128175;&#128175;&#128175;&#128175;&#128175;&#128175;&#128175;&#128175;...   \n",
       "16539  RT @Mr_MshkL: &#1589;&#1608;&#1585;&#1577; &#1604;&#1591;&#1575;&#1574;&#1585; &#1575;&#1604;&#1603;&#1575;&#1585;&#1583;&#1610;&#1606;&#1575;&#1604; &#1575;&#1604;&#1571;&#1581;&#1605;&#1585; &#1...   \n",
       "18886  RT @digiflorals: bitch do it look like I care \\n\\n&#12288; N\\n&#12288;&#12288; O\\n&#12288;&#12288;&#12288; O\\n&#12288;&#12288;&#12288;&#12288; o\\n&#12288;&#12288;&#12288;&#12288;&#12288;o\\n&#12288...   \n",
       "...                                                                                                                                                                                                        ...   \n",
       "8944                                                                                                                                                                                                   Emd hoe   \n",
       "24619                                                                                                                                                                                                  u a hoe   \n",
       "24393                                                                                                                                                                                                  retard.   \n",
       "24364                                                                                                                                                                                                    pussy   \n",
       "23724                                                                                                                                                                                                    coons   \n",
       "\n",
       "                 category  label  text_length  \n",
       "17865  offensive_language      1          754  \n",
       "13402  offensive_language      1          657  \n",
       "1596   offensive_language      1          637  \n",
       "16539              normal      0          522  \n",
       "18886  offensive_language      1          455  \n",
       "...                   ...    ...          ...  \n",
       "8944   offensive_language      1            7  \n",
       "24619  offensive_language      1            7  \n",
       "24393  offensive_language      1            7  \n",
       "24364  offensive_language      1            5  \n",
       "23724         hate_speech      1            5  \n",
       "\n",
       "[24783 rows x 4 columns]"
      ]
     },
     "execution_count": 25,
     "metadata": {},
     "output_type": "execute_result"
    }
   ],
   "source": [
    "data['text_length'] = data['text'].apply(lambda text: len(text))\n",
    "data.sort_values(by='text_length', ascending=False)\n",
    "# most of offensie are long sentences? \n"
   ]
  },
  {
   "cell_type": "code",
   "execution_count": 26,
   "metadata": {},
   "outputs": [
    {
     "data": {
      "text/plain": [
       "Text(0.5, 1.0, 'Empirical distribution of the message lengths')"
      ]
     },
     "execution_count": 26,
     "metadata": {},
     "output_type": "execute_result"
    },
    {
     "data": {
      "image/png": "[encoded data removed]",
      "text/plain": [
       "<Figure size 432x288 with 1 Axes>"
      ]
     },
     "metadata": {
      "needs_background": "light"
     },
     "output_type": "display_data"
    }
   ],
   "source": [
    "plt.hist(data['text_length'], bins=50, weights=np.ones(len(data))/len(data))\n",
    "plt.xlabel('Text Length')\n",
    "plt.ylabel('Empirical PDF')\n",
    "plt.title('Empirical distribution of the message lengths')"
   ]
  },
  {
   "cell_type": "code",
   "execution_count": 27,
   "metadata": {},
   "outputs": [
    {
     "name": "stderr",
     "output_type": "stream",
     "text": [
      "/home/pwnslinger/.virtualenvs/py36/lib/python3.6/site-packages/ipykernel_launcher.py:25: SettingWithCopyWarning: \n",
      "A value is trying to be set on a copy of a slice from a DataFrame\n",
      "\n",
      "See the caveats in the documentation: http://pandas.pydata.org/pandas-docs/stable/user_guide/indexing.html#returning-a-view-versus-a-copy\n"
     ]
    }
   ],
   "source": [
    "def preprocess(text):\n",
    "    result = []\n",
    "    for token in simple_preprocess(text):\n",
    "        if token not in STOPWORDS and len(token) > 3:\n",
    "            result.append(lemmatizer.lemmatize(token, pos='v'))\n",
    "    return \" \".join(result).strip()\n",
    "\n",
    "def clean_tweets(df):\n",
    "    URL = r'http[s]?://(?:[a-zA-Z]|[0-9]|[$-_@.&+]|[!*\\(\\), ]|(?:%[0-9a-fA-F][0-9a-fA-F]))+'\n",
    "    MENTION = r'@[A-Za-z0-9_]+'\n",
    "    RT = r'RT '\n",
    "    LINE = r'\\n'\n",
    "    AND = r'&amp;'\n",
    "    TRUNCATED = r'[^\\s]+…'\n",
    "    EMOJI = r'\\\"\\s|\\s\\\"|&#\\d+|@[A-Za-z0-9_]+|[:;#.&,!]|http'\n",
    "\n",
    "    pattern_list = [URL, MENTION, LINE, AND, TRUNCATED, EMOJI]\n",
    "\n",
    "    for i, t in df.items():\n",
    "        for p in pattern_list:\n",
    "            pattern = re.compile(p, re.IGNORECASE)\n",
    "            t = pattern.sub(\" \", t).strip()\n",
    "        # preprocessing text\n",
    "        t = preprocess(t)\n",
    "        df[i] = t\n",
    "\n",
    "clean_tweets(data['text'])"
   ]
  },
  {
   "cell_type": "code",
   "execution_count": 8,
   "metadata": {},
   "outputs": [
    {
     "name": "stdout",
     "output_type": "stream",
     "text": [
      "1                    dats cold tyga cuffin place\n",
      "2             dawg fuck bitch start confuse shit\n",
      "3                               look like tranny\n",
      "4                shit hear true faker bitch tell\n",
      "5     shit blow claim faithful somebody fuck hoe\n",
      "6                             hate bitch shit go\n",
      "7             cause tire bitch come skinny girls\n",
      "8                                    bitch thats\n",
      "9             hobbies include fight mariam bitch\n",
      "10      keeks bitch curve walk conversation like\n",
      "Name: text, dtype: object\n",
      "0          woman shouldn complain clean house trash\n",
      "40              momma say pussy cat inside doghouse\n",
      "63                                 woof woof scally\n",
      "66                                   woof woof sole\n",
      "67                            lemmie oreo dish oreo\n",
      "70             eggplant emoji look like scream lmao\n",
      "75       baby monkey bathtime awwwwe soooo adorable\n",
      "115              baseball season yankees love start\n",
      "118                      early bird night wise worm\n",
      "119    overdose heavy drug sound tonight pussy shit\n",
      "Name: text, dtype: object\n"
     ]
    }
   ],
   "source": [
    "# extract spams and hams\n",
    "offensive = data['text'].iloc[(data['label'] == 1).values]\n",
    "normal = data['text'].iloc[(data['label'] == 0).values]\n",
    "print(offensive[:10])\n",
    "print(normal[:10])"
   ]
  },
  {
   "cell_type": "code",
   "execution_count": 9,
   "metadata": {
    "scrolled": true
   },
   "outputs": [
    {
     "data": {
      "text/plain": [
       "<matplotlib.legend.Legend at 0x7fe5e40a77b8>"
      ]
     },
     "execution_count": 9,
     "metadata": {},
     "output_type": "execute_result"
    },
    {
     "data": {
      "image/png": "[encoded data removed]",
      "text/plain": [
       "<Figure size 432x288 with 1 Axes>"
      ]
     },
     "metadata": {
      "needs_background": "light"
     },
     "output_type": "display_data"
    }
   ],
   "source": [
    "plt.hist(offensive.apply(lambda x: len(x)),\n",
    "         bins=50,\n",
    "         weights=np.ones(len(offensive)) / len(offensive),\n",
    "         facecolor='r',\n",
    "         label='Offensive')\n",
    "plt.hist(normal.apply(lambda x: len(x)),\n",
    "         bins=50,\n",
    "         weights=np.ones(len(normal)) / len(normal),\n",
    "         facecolor='g',\n",
    "         alpha=0.8,\n",
    "         label='Normal')\n",
    "plt.xlabel('Message lenght')\n",
    "plt.ylabel('Empirical PDF')\n",
    "plt.title('Offensive/Normal messages lengths')\n",
    "def preprocess(text):\n",
    "    result = []\n",
    "    for token in simple_preprocess(text):\n",
    "        if token not in STOPWORDS and len(token) > 3:\n",
    "            result.append(lemmatizer.lemmatize(token, pos='v'))\n",
    "    return \" \".join(result).strip()\n",
    "plt.legend()"
   ]
  },
  {
   "cell_type": "code",
   "execution_count": 10,
   "metadata": {},
   "outputs": [
    {
     "name": "stdout",
     "output_type": "stream",
     "text": [
      "['dats', 'cold', 'tyga', 'cuffin', 'place', 'dawg', 'fuck', 'bitch', 'start', 'confuse']\n",
      "['woman', 'shouldn', 'complain', 'clean', 'house', 'trash', 'momma', 'say', 'pussy', 'cat']\n"
     ]
    }
   ],
   "source": [
    "# most common words in spam and ham\n",
    "offensive_tokens = []\n",
    "for word in offensive:\n",
    "    offensive_tokens += nltk.tokenize.word_tokenize(word)\n",
    "normal_tokens = []\n",
    "for word in normal:\n",
    "    normal_tokens += nltk.tokenize.word_tokenize(word)\n",
    "print(offensive_tokens[:10])\n",
    "print(normal_tokens[:10])\n"
   ]
  },
  {
   "cell_type": "code",
   "execution_count": 11,
   "metadata": {},
   "outputs": [
    {
     "name": "stdout",
     "output_type": "stream",
     "text": [
      "[('bitch', 11465), ('like', 2548), ('hoe', 2390), ('fuck', 2267), ('pussy', 2152), ('shit', 1306), ('nigga', 1228), ('know', 840), ('niggas', 790), ('love', 667), ('want', 640), ('look', 639), ('na', 575), ('think', 570), ('faggot', 544), ('go', 530), ('talk', 520), ('say', 498), ('tell', 488), ('need', 471)]\n",
      "[('trash', 698), ('bird', 476), ('like', 314), ('charlie', 259), ('yankees', 225), ('yellow', 222), ('look', 132), ('color', 125), ('think', 116), ('monkey', 115), ('go', 114), ('ghetto', 113), ('want', 113), ('know', 109), ('game', 106), ('love', 100), ('good', 95), ('mock', 93), ('say', 90), ('time', 85)]\n"
     ]
    }
   ],
   "source": [
    "most_common_tokens_in_offensive = Counter(offensive_tokens).most_common(20)\n",
    "most_common_tokens_in_normal = Counter(normal_tokens).most_common(20)\n",
    "print(most_common_tokens_in_offensive)\n",
    "print(most_common_tokens_in_normal)"
   ]
  },
  {
   "cell_type": "code",
   "execution_count": 12,
   "metadata": {},
   "outputs": [
    {
     "name": "stdout",
     "output_type": "stream",
     "text": [
      "Train-valid data length: 17348\n",
      "Test data length: 7435\n"
     ]
    }
   ],
   "source": [
    "data, test_data = train_test_split(data, test_size=0.3)\n",
    "print('Train-valid data length: {0}'.format(len(data)))\n",
    "print('Test data length: {0}'.format(len(test_data)))\n"
   ]
  },
  {
   "cell_type": "code",
   "execution_count": 13,
   "metadata": {},
   "outputs": [
    {
     "name": "stderr",
     "output_type": "stream",
     "text": [
      "/home/pwnslinger/.virtualenvs/py36/lib/python3.6/site-packages/ipykernel_launcher.py:15: DeprecationWarning: Call to deprecated `syn0` (Attribute will be removed in 4.0.0, use self.vectors instead).\n",
      "  from ipykernel import kernelapp as app\n"
     ]
    }
   ],
   "source": [
    "# build word2vec model\n",
    "wpt = nltk.WordPunctTokenizer()\n",
    "tokenized_corpus = [wpt.tokenize(document) for document in data['text']]\n",
    "\n",
    "# Set values for various parameters\n",
    "feature_size = 100    # Word vector dimensionality\n",
    "window_context = 10  # Context window size\n",
    "min_word_count = 1   # Minimum word count\n",
    "sample = 1e-3   # Downsample setting for frequent words\n",
    "\n",
    "w2v_model = word2vec.Word2Vec(tokenized_corpus, size=feature_size, \n",
    "                          window=window_context, min_count=min_word_count,\n",
    "                          sample=sample, iter=50)\n",
    "\n",
    "w2v = dict(zip(w2v_model.wv.index2word, w2v_model.wv.syn0))"
   ]
  },
  {
   "cell_type": "code",
   "execution_count": 14,
   "metadata": {},
   "outputs": [
    {
     "data": {
      "text/plain": [
       "{'trash': ['thrift', 'accnt', 'unsold', 'items', 'doom'],\n",
       " 'niggers': ['knooooooow', 'honkey', 'jews', 'stereotype', 'ignorant'],\n",
       " 'bitch': ['iont', 'relationship', 'cheapwine', 'shantrell', 'inbox'],\n",
       " 'taco': ['yusa', 'birdman', 'bearfaced', 'crazier', 'thunderball'],\n",
       " 'fuck': ['goddam', 'tryin', 'quit', 'aight', 'mugshot'],\n",
       " 'fugly': ['farmers', 'kedollarsignha', 'firefighter', 'juvie', 'differences']}"
      ]
     },
     "execution_count": 14,
     "metadata": {},
     "output_type": "execute_result"
    }
   ],
   "source": [
    "# view similar words based on gensim's model\n",
    "similar_words = {search_term: [item[0] for item in w2v_model.wv.most_similar([search_term], topn=5)]\n",
    "                  for search_term in ['trash', 'niggers', 'bitch', 'taco', 'fuck','fugly']}\n",
    "similar_words"
   ]
  },
  {
   "cell_type": "code",
   "execution_count": 15,
   "metadata": {},
   "outputs": [
    {
     "data": {
      "image/png": "[encoded data removed]",
      "text/plain": [
       "<Figure size 1008x576 with 1 Axes>"
      ]
     },
     "metadata": {
      "needs_background": "light"
     },
     "output_type": "display_data"
    }
   ],
   "source": [
    "words = sum([[k] + v for k, v in similar_words.items()], [])\n",
    "wvs = w2v_model.wv[words]\n",
    "\n",
    "tsne = TSNE(n_components=2, random_state=0, n_iter=10000, perplexity=2)\n",
    "np.set_printoptions(suppress=True)\n",
    "T = tsne.fit_transform(wvs)\n",
    "labels = words\n",
    "\n",
    "plt.figure(figsize=(14, 8))\n",
    "plt.scatter(T[:, 0], T[:, 1], c='orange', edgecolors='r')\n",
    "for label, x, y in zip(labels, T[:, 0], T[:, 1]):\n",
    "    plt.annotate(label, xy=(x+1, y+1), xytext=(0, 0), textcoords='offset points')"
   ]
  },
  {
   "cell_type": "code",
   "execution_count": 16,
   "metadata": {},
   "outputs": [],
   "source": [
    "class MeanEmbeddingVectorizer(object):\n",
    "    def __init__(self, word2vec):\n",
    "        self.word2vec = word2vec\n",
    "        # if a text is empty we should return a vector of zeros\n",
    "        # with the same dimensionality as all the other vectors\n",
    "        self.dim = len(word2vec.values())\n",
    "\n",
    "    def fit(self, X, y):\n",
    "        return self\n",
    "\n",
    "    def transform(self, X):\n",
    "        return np.array([\n",
    "            np.mean([self.word2vec[w] for w in words if w in self.word2vec]\n",
    "                    or [np.zeros(self.dim)], axis=0)\n",
    "            for words in X\n",
    "        ])"
   ]
  },
  {
   "cell_type": "code",
   "execution_count": 17,
   "metadata": {},
   "outputs": [],
   "source": [
    "class TfidfEmbeddingVectorizer(object):\n",
    "    def __init__(self, word2vec):\n",
    "        self.word2vec = word2vec\n",
    "        self.word2weight = None\n",
    "        self.dim = len(word2vec.values())\n",
    "\n",
    "    def fit(self, X, y):\n",
    "        tfidf = TfidfVectorizer(analyzer=lambda x: x)\n",
    "        tfidf.fit(X)\n",
    "        # if a word was never seen - it must be at least as infrequent\n",
    "        # as any of the known words - so the default idf is the max of \n",
    "        # known idf's\n",
    "        max_idf = max(tfidf.idf_)\n",
    "        self.word2weight = defaultdict(\n",
    "            lambda: max_idf,\n",
    "            [(w, tfidf.idf_[i]) for w, i in tfidf.vocabulary_.items()])\n",
    "\n",
    "        return self\n",
    "\n",
    "    def transform(self, X):\n",
    "        return np.array([\n",
    "                np.mean([self.word2vec[w] * self.word2weight[w]\n",
    "                         for w in words if w in self.word2vec] or\n",
    "                        [np.zeros(self.dim)], axis=0)\n",
    "                for words in X\n",
    "            ])\n"
   ]
  },
  {
   "cell_type": "code",
   "execution_count": 18,
   "metadata": {},
   "outputs": [],
   "source": [
    "class Classifier(object):\n",
    "    \n",
    "    def __init__(self, model, param):\n",
    "        self.model = model\n",
    "        self.param = param\n",
    "        self.gs = GridSearchCV(self.model, self.param, cv=5, error_score=0, refit=True)        \n",
    "\n",
    "    def fit(self, X, y):        \n",
    "        return self.gs.fit(X, y)\n",
    "\n",
    "    def predict(self, X):\n",
    "        return self.gs.predict(X)"
   ]
  },
  {
   "cell_type": "code",
   "execution_count": 19,
   "metadata": {},
   "outputs": [],
   "source": [
    "clf_models = {\n",
    "    'Naive Bayes': GaussianNB(), \n",
    "    'SVC': SVC(),\n",
    "    'Decision Tree': DecisionTreeClassifier(),  \n",
    "    'Perceptron': MLPClassifier(),\n",
    "    'Random Forest': RandomForestClassifier(),\n",
    "    'Gradient Boosting': GradientBoostingClassifier(),\n",
    "    'Logistic Regression': LogisticRegression(),\n",
    "    'Ada Boost': AdaBoostClassifier(),\n",
    "    'MLP Classifier': MLPClassifier()\n",
    "}\n",
    "\n",
    "clf_params = {\n",
    "    'Naive Bayes': { }, \n",
    "    'SVC': { 'kernel': ['linear', 'rbf'] },\n",
    "    'Decision Tree': { 'min_samples_split': [2, 5] }, \n",
    "    'Perceptron': { 'activation': ['tanh', 'relu'] },\n",
    "    'Gradient Boosting': { 'min_samples_split': [2, 5] },\n",
    "    'MLP Classifier': { 'hidden_layer_sizes': [100,100]}\n",
    "}\n",
    "\n",
    "X_train, X_test, y_train, y_test = train_test_split(data['text'], data['label'], test_size=0.2, shuffle=True)\n",
    "\n"
   ]
  },
  {
   "cell_type": "code",
   "execution_count": null,
   "metadata": {},
   "outputs": [],
   "source": [
    "for key in clf_models.keys():\n",
    "    \n",
    "    clf = Pipeline([('Word2Vec vectorizer', MeanEmbeddingVectorizer(w2v)), ('Classifier', Classifier(clf_models[key], clf_params[key]))])\n",
    "    \n",
    "    clf.fit(X_train, y_train)\n",
    "    y_pred = clf.predict(X_test)\n",
    "    \n",
    "    print(key, ':')\n",
    "    print(\"Accuracy: %1.3f \\tPrecision: %1.3f \\tRecall: %1.3f \\t\\tF1: %1.3f\\n\" % (accuracy_score(y_test, y_pred), precision_score(y_test, y_pred, average='macro'), recall_score(y_test, y_pred, average='macro'), f1_score(y_test, y_pred, average='macro')))"
   ]
  }
 ],
 "metadata": {
  "kernelspec": {
   "display_name": "Python 3",
   "language": "python",
   "name": "python3"
  },
  "language_info": {
   "codemirror_mode": {
    "name": "ipython",
    "version": 3
   },
   "file_extension": ".py",
   "mimetype": "text/x-python",
   "name": "python",
   "nbconvert_exporter": "python",
   "pygments_lexer": "ipython3",
   "version": "3.6.8"
  }
 },
 "nbformat": 4,
 "nbformat_minor": 2
}
